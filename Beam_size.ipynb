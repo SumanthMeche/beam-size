{
  "cells": [
    {
      "cell_type": "markdown",
      "source": [
        "#### Importing libraries"
      ],
      "metadata": {
        "id": "S3QwW1aUCSmn"
      },
      "id": "S3QwW1aUCSmn"
    },
    {
      "cell_type": "code",
      "execution_count": 31,
      "id": "a332a4d5",
      "metadata": {
        "id": "a332a4d5"
      },
      "outputs": [],
      "source": [
        "import numpy as np\n",
        "import pandas as pd\n",
        "import matplotlib.pyplot as plt\n",
        "import matplotlib\n",
        "from sympy import *\n",
        "from sympy.solvers.solveset import linsolve"
      ]
    },
    {
      "cell_type": "markdown",
      "id": "fcce2358",
      "metadata": {
        "id": "fcce2358"
      },
      "source": [
        "#### Defining required variables & calc eqns\n",
        "\n",
        "\n",
        "$$ d_\\mathrm{na} = \\frac{\\sum y dA}{\\sum dA}$$\\\n",
        "$$ A = \\sum dA$$\\\n",
        "$$ I = \\sum y^2 dA$$"
      ]
    },
    {
      "cell_type": "code",
      "execution_count": 32,
      "id": "9e7238fe",
      "metadata": {
        "id": "9e7238fe",
        "colab": {
          "base_uri": "https://localhost:8080/",
          "height": 208
        },
        "outputId": "c16a47f0-b020-4afc-ae79-509ebdf57f5f"
      },
      "outputs": [
        {
          "output_type": "display_data",
          "data": {
            "text/plain": [
              "'d_na='"
            ],
            "application/vnd.google.colaboratory.intrinsic+json": {
              "type": "string"
            }
          },
          "metadata": {}
        },
        {
          "output_type": "display_data",
          "data": {
            "text/plain": [
              "(t_f**2*w_f/2 + t_w*w_w*(t_f + w_w/2))/(2*t_f*w_f + t_w*w_w)"
            ],
            "text/latex": "$\\displaystyle \\frac{\\frac{t_{f}^{2} w_{f}}{2} + t_{w} w_{w} \\left(t_{f} + \\frac{w_{w}}{2}\\right)}{2 t_{f} w_{f} + t_{w} w_{w}}$"
          },
          "metadata": {}
        },
        {
          "output_type": "display_data",
          "data": {
            "text/plain": [
              "'A='"
            ],
            "application/vnd.google.colaboratory.intrinsic+json": {
              "type": "string"
            }
          },
          "metadata": {}
        },
        {
          "output_type": "display_data",
          "data": {
            "text/plain": [
              "2*t_f*w_f + t_w*w_w"
            ],
            "text/latex": "$\\displaystyle 2 t_{f} w_{f} + t_{w} w_{w}$"
          },
          "metadata": {}
        },
        {
          "output_type": "display_data",
          "data": {
            "text/plain": [
              "'I='"
            ],
            "application/vnd.google.colaboratory.intrinsic+json": {
              "type": "string"
            }
          },
          "metadata": {}
        },
        {
          "output_type": "display_data",
          "data": {
            "text/plain": [
              "t_f**3*w_f/6 + t_f*w_f*(t_f/2 - (t_f**2*w_f/2 + t_w*w_w*(t_f + w_w/2))/(2*t_f*w_f + t_w*w_w))**2 + t_w**3*w_w/12 + t_w*w_w*(-w_w/2 + (t_f**2*w_f/2 + t_w*w_w*(t_f + w_w/2))/(2*t_f*w_f + t_w*w_w))**2"
            ],
            "text/latex": "$\\displaystyle \\frac{t_{f}^{3} w_{f}}{6} + t_{f} w_{f} \\left(\\frac{t_{f}}{2} - \\frac{\\frac{t_{f}^{2} w_{f}}{2} + t_{w} w_{w} \\left(t_{f} + \\frac{w_{w}}{2}\\right)}{2 t_{f} w_{f} + t_{w} w_{w}}\\right)^{2} + \\frac{t_{w}^{3} w_{w}}{12} + t_{w} w_{w} \\left(- \\frac{w_{w}}{2} + \\frac{\\frac{t_{f}^{2} w_{f}}{2} + t_{w} w_{w} \\left(t_{f} + \\frac{w_{w}}{2}\\right)}{2 t_{f} w_{f} + t_{w} w_{w}}\\right)^{2}$"
          },
          "metadata": {}
        }
      ],
      "source": [
        "import sympy as sp\n",
        "\n",
        "# Define the symbols\n",
        "w_f, t_f, w_w, t_w, x,y, L, p_max, p2, E = sp.symbols('w_f t_f w_w t_w x y L p_max p2 E ')  # Flange width, flange thickness, web width, web thickness\n",
        "C1,C2,C3,C4 = symbols('C1 C2 C3 C4')\n",
        "\n",
        "# Area of the cross section for an I-beam\n",
        "A_I = 2 * w_f * t_f + w_w * t_w\n",
        "\n",
        "# Calculate the location of the neutral axis (d_na)\n",
        "d_na_I = ((w_f * t_f) * (t_f / 2) + (w_w * t_w) * (t_f + w_w / 2)) / A_I\n",
        "\n",
        "# Calculate the second moment of area (I) about the neutral axis\n",
        "I_I = (2 * (w_f * t_f**3) / 12) + (w_f * t_f * (t_f / 2 - d_na_I)**2) + \\\n",
        "    (w_w * t_w**3 / 12) + (w_w * t_w * (d_na_I - w_w / 2)**2)\n",
        "\n",
        "# Display the expressions\n",
        "display('d_na=')\n",
        "display(d_na_I)\n",
        "display('A=')\n",
        "display(A_I)\n",
        "display('I=')\n",
        "display(I_I)"
      ]
    },
    {
      "cell_type": "markdown",
      "id": "ef7644d0",
      "metadata": {
        "id": "ef7644d0"
      },
      "source": [
        "####  ODE\n",
        "\n",
        "$$ \\frac{d^2}{dx^2} \\left [ EI \\frac{d^2 u(x)}{dx^2} \\right ] - p=0$$\n",
        "\n"
      ]
    },
    {
      "cell_type": "code",
      "execution_count": 33,
      "id": "068965a2",
      "metadata": {
        "id": "068965a2",
        "colab": {
          "base_uri": "https://localhost:8080/",
          "height": 125
        },
        "outputId": "8ef504f2-a49f-43e4-9f62-dc373e12fb4a"
      },
      "outputs": [
        {
          "output_type": "execute_result",
          "data": {
            "text/plain": [
              "E*(t_f**3*w_f/6 + t_f*w_f*(t_f/2 - (t_f**2*w_f/2 + t_w*w_w*(t_f + w_w/2))/(2*t_f*w_f + t_w*w_w))**2 + t_w**3*w_w/12 + t_w*w_w*(-w_w/2 + (t_f**2*w_f/2 + t_w*w_w*(t_f + w_w/2))/(2*t_f*w_f + t_w*w_w))**2)*Derivative(u(x), (x, 4)) + p_max - 2*p_max*x/L + p_max*x**2/L**2"
            ],
            "text/latex": "$\\displaystyle E \\left(\\frac{t_{f}^{3} w_{f}}{6} + t_{f} w_{f} \\left(\\frac{t_{f}}{2} - \\frac{\\frac{t_{f}^{2} w_{f}}{2} + t_{w} w_{w} \\left(t_{f} + \\frac{w_{w}}{2}\\right)}{2 t_{f} w_{f} + t_{w} w_{w}}\\right)^{2} + \\frac{t_{w}^{3} w_{w}}{12} + t_{w} w_{w} \\left(- \\frac{w_{w}}{2} + \\frac{\\frac{t_{f}^{2} w_{f}}{2} + t_{w} w_{w} \\left(t_{f} + \\frac{w_{w}}{2}\\right)}{2 t_{f} w_{f} + t_{w} w_{w}}\\right)^{2}\\right) \\frac{d^{4}}{d x^{4}} u{\\left(x \\right)} + p_{max} - \\frac{2 p_{max} x}{L} + \\frac{p_{max} x^{2}}{L^{2}}$"
          },
          "metadata": {},
          "execution_count": 33
        }
      ],
      "source": [
        "# Define symbols\n",
        "u = Function('u')\n",
        "\n",
        "# Distributed load function (first 20% of the beam)\n",
        "#p1 = (-p_max / (L ** 2) * (x ** 2) + 4 * p_max / L * x - p_max) * sp.Heaviside(0.2 * L - x)# for load applied on specific section of beam\n",
        "p1 = -p_max / (L ** 2) * (x ** 2) + 2 * p_max / L * x - p_max\n",
        "\n",
        "# Differential equation for the beam bending\n",
        "ODE = E*I_I*Derivative(Derivative(u(x),x,x),x,x)-p1\n",
        "\n",
        "# Displaying the ODE\n",
        "ODE"
      ]
    },
    {
      "cell_type": "markdown",
      "id": "6a6fcb33",
      "metadata": {
        "id": "6a6fcb33"
      },
      "source": [
        "#### u soln\n"
      ]
    },
    {
      "cell_type": "code",
      "execution_count": 34,
      "id": "83cab669",
      "metadata": {
        "id": "83cab669",
        "colab": {
          "base_uri": "https://localhost:8080/",
          "height": 961
        },
        "outputId": "25b74fa0-ec07-4bba-8673-2b41753dbf13"
      },
      "outputs": [
        {
          "output_type": "stream",
          "name": "stdout",
          "text": [
            "u =\n"
          ]
        },
        {
          "output_type": "display_data",
          "data": {
            "text/plain": [
              "C1 + C2*x + C3*x**2 + C4*x**3 + p_max*x**4*(-2*t_f**2*w_f**2 - 2*t_f*t_w*w_f*w_w - t_w**2*w_w**2/2)/(E*(11*t_f**5*w_f**3 + 5*t_f**4*t_w*w_f**2*w_w + 17*t_f**3*t_w**2*w_f*w_w**2 - 18*t_f**3*t_w*w_f**2*w_w**2 + 4*t_f**2*t_w**3*w_f**2*w_w + 12*t_f**2*t_w**3*w_w**3 - 18*t_f**2*t_w**2*w_f*w_w**3 + 12*t_f**2*t_w*w_f**2*w_w**3 + 4*t_f*t_w**4*w_f*w_w**2 + 3*t_f*t_w**2*w_f*w_w**4 + t_w**5*w_w**3)) + p_max*x**5*(4*t_f**2*w_f**2 + 4*t_f*t_w*w_f*w_w + t_w**2*w_w**2)/(5*E*L*(11*t_f**5*w_f**3 + 5*t_f**4*t_w*w_f**2*w_w + 17*t_f**3*t_w**2*w_f*w_w**2 - 18*t_f**3*t_w*w_f**2*w_w**2 + 4*t_f**2*t_w**3*w_f**2*w_w + 12*t_f**2*t_w**3*w_w**3 - 18*t_f**2*t_w**2*w_f*w_w**3 + 12*t_f**2*t_w*w_f**2*w_w**3 + 4*t_f*t_w**4*w_f*w_w**2 + 3*t_f*t_w**2*w_f*w_w**4 + t_w**5*w_w**3)) - p_max*x**6*(4*t_f**2*w_f**2 + 4*t_f*t_w*w_f*w_w + t_w**2*w_w**2)/(30*E*L**2*(11*t_f**5*w_f**3 + 5*t_f**4*t_w*w_f**2*w_w + 17*t_f**3*t_w**2*w_f*w_w**2 - 18*t_f**3*t_w*w_f**2*w_w**2 + 4*t_f**2*t_w**3*w_f**2*w_w + 12*t_f**2*t_w**3*w_w**3 - 18*t_f**2*t_w**2*w_f*w_w**3 + 12*t_f**2*t_w*w_f**2*w_w**3 + 4*t_f*t_w**4*w_f*w_w**2 + 3*t_f*t_w**2*w_f*w_w**4 + t_w**5*w_w**3))"
            ],
            "text/latex": "$\\displaystyle C_{1} + C_{2} x + C_{3} x^{2} + C_{4} x^{3} + \\frac{p_{max} x^{4} \\left(- 2 t_{f}^{2} w_{f}^{2} - 2 t_{f} t_{w} w_{f} w_{w} - \\frac{t_{w}^{2} w_{w}^{2}}{2}\\right)}{E \\left(11 t_{f}^{5} w_{f}^{3} + 5 t_{f}^{4} t_{w} w_{f}^{2} w_{w} + 17 t_{f}^{3} t_{w}^{2} w_{f} w_{w}^{2} - 18 t_{f}^{3} t_{w} w_{f}^{2} w_{w}^{2} + 4 t_{f}^{2} t_{w}^{3} w_{f}^{2} w_{w} + 12 t_{f}^{2} t_{w}^{3} w_{w}^{3} - 18 t_{f}^{2} t_{w}^{2} w_{f} w_{w}^{3} + 12 t_{f}^{2} t_{w} w_{f}^{2} w_{w}^{3} + 4 t_{f} t_{w}^{4} w_{f} w_{w}^{2} + 3 t_{f} t_{w}^{2} w_{f} w_{w}^{4} + t_{w}^{5} w_{w}^{3}\\right)} + \\frac{p_{max} x^{5} \\cdot \\left(4 t_{f}^{2} w_{f}^{2} + 4 t_{f} t_{w} w_{f} w_{w} + t_{w}^{2} w_{w}^{2}\\right)}{5 E L \\left(11 t_{f}^{5} w_{f}^{3} + 5 t_{f}^{4} t_{w} w_{f}^{2} w_{w} + 17 t_{f}^{3} t_{w}^{2} w_{f} w_{w}^{2} - 18 t_{f}^{3} t_{w} w_{f}^{2} w_{w}^{2} + 4 t_{f}^{2} t_{w}^{3} w_{f}^{2} w_{w} + 12 t_{f}^{2} t_{w}^{3} w_{w}^{3} - 18 t_{f}^{2} t_{w}^{2} w_{f} w_{w}^{3} + 12 t_{f}^{2} t_{w} w_{f}^{2} w_{w}^{3} + 4 t_{f} t_{w}^{4} w_{f} w_{w}^{2} + 3 t_{f} t_{w}^{2} w_{f} w_{w}^{4} + t_{w}^{5} w_{w}^{3}\\right)} - \\frac{p_{max} x^{6} \\cdot \\left(4 t_{f}^{2} w_{f}^{2} + 4 t_{f} t_{w} w_{f} w_{w} + t_{w}^{2} w_{w}^{2}\\right)}{30 E L^{2} \\cdot \\left(11 t_{f}^{5} w_{f}^{3} + 5 t_{f}^{4} t_{w} w_{f}^{2} w_{w} + 17 t_{f}^{3} t_{w}^{2} w_{f} w_{w}^{2} - 18 t_{f}^{3} t_{w} w_{f}^{2} w_{w}^{2} + 4 t_{f}^{2} t_{w}^{3} w_{f}^{2} w_{w} + 12 t_{f}^{2} t_{w}^{3} w_{w}^{3} - 18 t_{f}^{2} t_{w}^{2} w_{f} w_{w}^{3} + 12 t_{f}^{2} t_{w} w_{f}^{2} w_{w}^{3} + 4 t_{f} t_{w}^{4} w_{f} w_{w}^{2} + 3 t_{f} t_{w}^{2} w_{f} w_{w}^{4} + t_{w}^{5} w_{w}^{3}\\right)}$"
          },
          "metadata": {}
        },
        {
          "output_type": "stream",
          "name": "stdout",
          "text": [
            "du/dx =\n"
          ]
        },
        {
          "output_type": "display_data",
          "data": {
            "text/plain": [
              "C2 + 2*C3*x + 3*C4*x**2 + 4*p_max*x**3*(-2*t_f**2*w_f**2 - 2*t_f*t_w*w_f*w_w - t_w**2*w_w**2/2)/(E*(11*t_f**5*w_f**3 + 5*t_f**4*t_w*w_f**2*w_w + 17*t_f**3*t_w**2*w_f*w_w**2 - 18*t_f**3*t_w*w_f**2*w_w**2 + 4*t_f**2*t_w**3*w_f**2*w_w + 12*t_f**2*t_w**3*w_w**3 - 18*t_f**2*t_w**2*w_f*w_w**3 + 12*t_f**2*t_w*w_f**2*w_w**3 + 4*t_f*t_w**4*w_f*w_w**2 + 3*t_f*t_w**2*w_f*w_w**4 + t_w**5*w_w**3)) + p_max*x**4*(4*t_f**2*w_f**2 + 4*t_f*t_w*w_f*w_w + t_w**2*w_w**2)/(E*L*(11*t_f**5*w_f**3 + 5*t_f**4*t_w*w_f**2*w_w + 17*t_f**3*t_w**2*w_f*w_w**2 - 18*t_f**3*t_w*w_f**2*w_w**2 + 4*t_f**2*t_w**3*w_f**2*w_w + 12*t_f**2*t_w**3*w_w**3 - 18*t_f**2*t_w**2*w_f*w_w**3 + 12*t_f**2*t_w*w_f**2*w_w**3 + 4*t_f*t_w**4*w_f*w_w**2 + 3*t_f*t_w**2*w_f*w_w**4 + t_w**5*w_w**3)) - p_max*x**5*(4*t_f**2*w_f**2 + 4*t_f*t_w*w_f*w_w + t_w**2*w_w**2)/(5*E*L**2*(11*t_f**5*w_f**3 + 5*t_f**4*t_w*w_f**2*w_w + 17*t_f**3*t_w**2*w_f*w_w**2 - 18*t_f**3*t_w*w_f**2*w_w**2 + 4*t_f**2*t_w**3*w_f**2*w_w + 12*t_f**2*t_w**3*w_w**3 - 18*t_f**2*t_w**2*w_f*w_w**3 + 12*t_f**2*t_w*w_f**2*w_w**3 + 4*t_f*t_w**4*w_f*w_w**2 + 3*t_f*t_w**2*w_f*w_w**4 + t_w**5*w_w**3))"
            ],
            "text/latex": "$\\displaystyle C_{2} + 2 C_{3} x + 3 C_{4} x^{2} + \\frac{4 p_{max} x^{3} \\left(- 2 t_{f}^{2} w_{f}^{2} - 2 t_{f} t_{w} w_{f} w_{w} - \\frac{t_{w}^{2} w_{w}^{2}}{2}\\right)}{E \\left(11 t_{f}^{5} w_{f}^{3} + 5 t_{f}^{4} t_{w} w_{f}^{2} w_{w} + 17 t_{f}^{3} t_{w}^{2} w_{f} w_{w}^{2} - 18 t_{f}^{3} t_{w} w_{f}^{2} w_{w}^{2} + 4 t_{f}^{2} t_{w}^{3} w_{f}^{2} w_{w} + 12 t_{f}^{2} t_{w}^{3} w_{w}^{3} - 18 t_{f}^{2} t_{w}^{2} w_{f} w_{w}^{3} + 12 t_{f}^{2} t_{w} w_{f}^{2} w_{w}^{3} + 4 t_{f} t_{w}^{4} w_{f} w_{w}^{2} + 3 t_{f} t_{w}^{2} w_{f} w_{w}^{4} + t_{w}^{5} w_{w}^{3}\\right)} + \\frac{p_{max} x^{4} \\cdot \\left(4 t_{f}^{2} w_{f}^{2} + 4 t_{f} t_{w} w_{f} w_{w} + t_{w}^{2} w_{w}^{2}\\right)}{E L \\left(11 t_{f}^{5} w_{f}^{3} + 5 t_{f}^{4} t_{w} w_{f}^{2} w_{w} + 17 t_{f}^{3} t_{w}^{2} w_{f} w_{w}^{2} - 18 t_{f}^{3} t_{w} w_{f}^{2} w_{w}^{2} + 4 t_{f}^{2} t_{w}^{3} w_{f}^{2} w_{w} + 12 t_{f}^{2} t_{w}^{3} w_{w}^{3} - 18 t_{f}^{2} t_{w}^{2} w_{f} w_{w}^{3} + 12 t_{f}^{2} t_{w} w_{f}^{2} w_{w}^{3} + 4 t_{f} t_{w}^{4} w_{f} w_{w}^{2} + 3 t_{f} t_{w}^{2} w_{f} w_{w}^{4} + t_{w}^{5} w_{w}^{3}\\right)} - \\frac{p_{max} x^{5} \\cdot \\left(4 t_{f}^{2} w_{f}^{2} + 4 t_{f} t_{w} w_{f} w_{w} + t_{w}^{2} w_{w}^{2}\\right)}{5 E L^{2} \\cdot \\left(11 t_{f}^{5} w_{f}^{3} + 5 t_{f}^{4} t_{w} w_{f}^{2} w_{w} + 17 t_{f}^{3} t_{w}^{2} w_{f} w_{w}^{2} - 18 t_{f}^{3} t_{w} w_{f}^{2} w_{w}^{2} + 4 t_{f}^{2} t_{w}^{3} w_{f}^{2} w_{w} + 12 t_{f}^{2} t_{w}^{3} w_{w}^{3} - 18 t_{f}^{2} t_{w}^{2} w_{f} w_{w}^{3} + 12 t_{f}^{2} t_{w} w_{f}^{2} w_{w}^{3} + 4 t_{f} t_{w}^{4} w_{f} w_{w}^{2} + 3 t_{f} t_{w}^{2} w_{f} w_{w}^{4} + t_{w}^{5} w_{w}^{3}\\right)}$"
          },
          "metadata": {}
        },
        {
          "output_type": "stream",
          "name": "stdout",
          "text": [
            "(d²u/dx²) =\n"
          ]
        },
        {
          "output_type": "display_data",
          "data": {
            "text/plain": [
              "2*C3 + 6*C4*x + 12*p_max*x**2*(-2*t_f**2*w_f**2 - 2*t_f*t_w*w_f*w_w - t_w**2*w_w**2/2)/(E*(11*t_f**5*w_f**3 + 5*t_f**4*t_w*w_f**2*w_w + 17*t_f**3*t_w**2*w_f*w_w**2 - 18*t_f**3*t_w*w_f**2*w_w**2 + 4*t_f**2*t_w**3*w_f**2*w_w + 12*t_f**2*t_w**3*w_w**3 - 18*t_f**2*t_w**2*w_f*w_w**3 + 12*t_f**2*t_w*w_f**2*w_w**3 + 4*t_f*t_w**4*w_f*w_w**2 + 3*t_f*t_w**2*w_f*w_w**4 + t_w**5*w_w**3)) + 4*p_max*x**3*(4*t_f**2*w_f**2 + 4*t_f*t_w*w_f*w_w + t_w**2*w_w**2)/(E*L*(11*t_f**5*w_f**3 + 5*t_f**4*t_w*w_f**2*w_w + 17*t_f**3*t_w**2*w_f*w_w**2 - 18*t_f**3*t_w*w_f**2*w_w**2 + 4*t_f**2*t_w**3*w_f**2*w_w + 12*t_f**2*t_w**3*w_w**3 - 18*t_f**2*t_w**2*w_f*w_w**3 + 12*t_f**2*t_w*w_f**2*w_w**3 + 4*t_f*t_w**4*w_f*w_w**2 + 3*t_f*t_w**2*w_f*w_w**4 + t_w**5*w_w**3)) - p_max*x**4*(4*t_f**2*w_f**2 + 4*t_f*t_w*w_f*w_w + t_w**2*w_w**2)/(E*L**2*(11*t_f**5*w_f**3 + 5*t_f**4*t_w*w_f**2*w_w + 17*t_f**3*t_w**2*w_f*w_w**2 - 18*t_f**3*t_w*w_f**2*w_w**2 + 4*t_f**2*t_w**3*w_f**2*w_w + 12*t_f**2*t_w**3*w_w**3 - 18*t_f**2*t_w**2*w_f*w_w**3 + 12*t_f**2*t_w*w_f**2*w_w**3 + 4*t_f*t_w**4*w_f*w_w**2 + 3*t_f*t_w**2*w_f*w_w**4 + t_w**5*w_w**3))"
            ],
            "text/latex": "$\\displaystyle 2 C_{3} + 6 C_{4} x + \\frac{12 p_{max} x^{2} \\left(- 2 t_{f}^{2} w_{f}^{2} - 2 t_{f} t_{w} w_{f} w_{w} - \\frac{t_{w}^{2} w_{w}^{2}}{2}\\right)}{E \\left(11 t_{f}^{5} w_{f}^{3} + 5 t_{f}^{4} t_{w} w_{f}^{2} w_{w} + 17 t_{f}^{3} t_{w}^{2} w_{f} w_{w}^{2} - 18 t_{f}^{3} t_{w} w_{f}^{2} w_{w}^{2} + 4 t_{f}^{2} t_{w}^{3} w_{f}^{2} w_{w} + 12 t_{f}^{2} t_{w}^{3} w_{w}^{3} - 18 t_{f}^{2} t_{w}^{2} w_{f} w_{w}^{3} + 12 t_{f}^{2} t_{w} w_{f}^{2} w_{w}^{3} + 4 t_{f} t_{w}^{4} w_{f} w_{w}^{2} + 3 t_{f} t_{w}^{2} w_{f} w_{w}^{4} + t_{w}^{5} w_{w}^{3}\\right)} + \\frac{4 p_{max} x^{3} \\cdot \\left(4 t_{f}^{2} w_{f}^{2} + 4 t_{f} t_{w} w_{f} w_{w} + t_{w}^{2} w_{w}^{2}\\right)}{E L \\left(11 t_{f}^{5} w_{f}^{3} + 5 t_{f}^{4} t_{w} w_{f}^{2} w_{w} + 17 t_{f}^{3} t_{w}^{2} w_{f} w_{w}^{2} - 18 t_{f}^{3} t_{w} w_{f}^{2} w_{w}^{2} + 4 t_{f}^{2} t_{w}^{3} w_{f}^{2} w_{w} + 12 t_{f}^{2} t_{w}^{3} w_{w}^{3} - 18 t_{f}^{2} t_{w}^{2} w_{f} w_{w}^{3} + 12 t_{f}^{2} t_{w} w_{f}^{2} w_{w}^{3} + 4 t_{f} t_{w}^{4} w_{f} w_{w}^{2} + 3 t_{f} t_{w}^{2} w_{f} w_{w}^{4} + t_{w}^{5} w_{w}^{3}\\right)} - \\frac{p_{max} x^{4} \\cdot \\left(4 t_{f}^{2} w_{f}^{2} + 4 t_{f} t_{w} w_{f} w_{w} + t_{w}^{2} w_{w}^{2}\\right)}{E L^{2} \\cdot \\left(11 t_{f}^{5} w_{f}^{3} + 5 t_{f}^{4} t_{w} w_{f}^{2} w_{w} + 17 t_{f}^{3} t_{w}^{2} w_{f} w_{w}^{2} - 18 t_{f}^{3} t_{w} w_{f}^{2} w_{w}^{2} + 4 t_{f}^{2} t_{w}^{3} w_{f}^{2} w_{w} + 12 t_{f}^{2} t_{w}^{3} w_{w}^{3} - 18 t_{f}^{2} t_{w}^{2} w_{f} w_{w}^{3} + 12 t_{f}^{2} t_{w} w_{f}^{2} w_{w}^{3} + 4 t_{f} t_{w}^{4} w_{f} w_{w}^{2} + 3 t_{f} t_{w}^{2} w_{f} w_{w}^{4} + t_{w}^{5} w_{w}^{3}\\right)}$"
          },
          "metadata": {}
        },
        {
          "output_type": "stream",
          "name": "stdout",
          "text": [
            "d³u/dx³)=\n"
          ]
        },
        {
          "output_type": "display_data",
          "data": {
            "text/plain": [
              "6*C4 + 24*p_max*x*(-2*t_f**2*w_f**2 - 2*t_f*t_w*w_f*w_w - t_w**2*w_w**2/2)/(E*(11*t_f**5*w_f**3 + 5*t_f**4*t_w*w_f**2*w_w + 17*t_f**3*t_w**2*w_f*w_w**2 - 18*t_f**3*t_w*w_f**2*w_w**2 + 4*t_f**2*t_w**3*w_f**2*w_w + 12*t_f**2*t_w**3*w_w**3 - 18*t_f**2*t_w**2*w_f*w_w**3 + 12*t_f**2*t_w*w_f**2*w_w**3 + 4*t_f*t_w**4*w_f*w_w**2 + 3*t_f*t_w**2*w_f*w_w**4 + t_w**5*w_w**3)) + 12*p_max*x**2*(4*t_f**2*w_f**2 + 4*t_f*t_w*w_f*w_w + t_w**2*w_w**2)/(E*L*(11*t_f**5*w_f**3 + 5*t_f**4*t_w*w_f**2*w_w + 17*t_f**3*t_w**2*w_f*w_w**2 - 18*t_f**3*t_w*w_f**2*w_w**2 + 4*t_f**2*t_w**3*w_f**2*w_w + 12*t_f**2*t_w**3*w_w**3 - 18*t_f**2*t_w**2*w_f*w_w**3 + 12*t_f**2*t_w*w_f**2*w_w**3 + 4*t_f*t_w**4*w_f*w_w**2 + 3*t_f*t_w**2*w_f*w_w**4 + t_w**5*w_w**3)) - 4*p_max*x**3*(4*t_f**2*w_f**2 + 4*t_f*t_w*w_f*w_w + t_w**2*w_w**2)/(E*L**2*(11*t_f**5*w_f**3 + 5*t_f**4*t_w*w_f**2*w_w + 17*t_f**3*t_w**2*w_f*w_w**2 - 18*t_f**3*t_w*w_f**2*w_w**2 + 4*t_f**2*t_w**3*w_f**2*w_w + 12*t_f**2*t_w**3*w_w**3 - 18*t_f**2*t_w**2*w_f*w_w**3 + 12*t_f**2*t_w*w_f**2*w_w**3 + 4*t_f*t_w**4*w_f*w_w**2 + 3*t_f*t_w**2*w_f*w_w**4 + t_w**5*w_w**3))"
            ],
            "text/latex": "$\\displaystyle 6 C_{4} + \\frac{24 p_{max} x \\left(- 2 t_{f}^{2} w_{f}^{2} - 2 t_{f} t_{w} w_{f} w_{w} - \\frac{t_{w}^{2} w_{w}^{2}}{2}\\right)}{E \\left(11 t_{f}^{5} w_{f}^{3} + 5 t_{f}^{4} t_{w} w_{f}^{2} w_{w} + 17 t_{f}^{3} t_{w}^{2} w_{f} w_{w}^{2} - 18 t_{f}^{3} t_{w} w_{f}^{2} w_{w}^{2} + 4 t_{f}^{2} t_{w}^{3} w_{f}^{2} w_{w} + 12 t_{f}^{2} t_{w}^{3} w_{w}^{3} - 18 t_{f}^{2} t_{w}^{2} w_{f} w_{w}^{3} + 12 t_{f}^{2} t_{w} w_{f}^{2} w_{w}^{3} + 4 t_{f} t_{w}^{4} w_{f} w_{w}^{2} + 3 t_{f} t_{w}^{2} w_{f} w_{w}^{4} + t_{w}^{5} w_{w}^{3}\\right)} + \\frac{12 p_{max} x^{2} \\cdot \\left(4 t_{f}^{2} w_{f}^{2} + 4 t_{f} t_{w} w_{f} w_{w} + t_{w}^{2} w_{w}^{2}\\right)}{E L \\left(11 t_{f}^{5} w_{f}^{3} + 5 t_{f}^{4} t_{w} w_{f}^{2} w_{w} + 17 t_{f}^{3} t_{w}^{2} w_{f} w_{w}^{2} - 18 t_{f}^{3} t_{w} w_{f}^{2} w_{w}^{2} + 4 t_{f}^{2} t_{w}^{3} w_{f}^{2} w_{w} + 12 t_{f}^{2} t_{w}^{3} w_{w}^{3} - 18 t_{f}^{2} t_{w}^{2} w_{f} w_{w}^{3} + 12 t_{f}^{2} t_{w} w_{f}^{2} w_{w}^{3} + 4 t_{f} t_{w}^{4} w_{f} w_{w}^{2} + 3 t_{f} t_{w}^{2} w_{f} w_{w}^{4} + t_{w}^{5} w_{w}^{3}\\right)} - \\frac{4 p_{max} x^{3} \\cdot \\left(4 t_{f}^{2} w_{f}^{2} + 4 t_{f} t_{w} w_{f} w_{w} + t_{w}^{2} w_{w}^{2}\\right)}{E L^{2} \\cdot \\left(11 t_{f}^{5} w_{f}^{3} + 5 t_{f}^{4} t_{w} w_{f}^{2} w_{w} + 17 t_{f}^{3} t_{w}^{2} w_{f} w_{w}^{2} - 18 t_{f}^{3} t_{w} w_{f}^{2} w_{w}^{2} + 4 t_{f}^{2} t_{w}^{3} w_{f}^{2} w_{w} + 12 t_{f}^{2} t_{w}^{3} w_{w}^{3} - 18 t_{f}^{2} t_{w}^{2} w_{f} w_{w}^{3} + 12 t_{f}^{2} t_{w} w_{f}^{2} w_{w}^{3} + 4 t_{f} t_{w}^{4} w_{f} w_{w}^{2} + 3 t_{f} t_{w}^{2} w_{f} w_{w}^{4} + t_{w}^{5} w_{w}^{3}\\right)}$"
          },
          "metadata": {}
        }
      ],
      "source": [
        "u=dsolve(ODE,u(x)).rhs\n",
        "\n",
        "# Calculate the derivatives\n",
        "du    = u.diff(x)\n",
        "ddu   = du.diff(x)\n",
        "dddu  = ddu.diff(x)\n",
        "\n",
        "# Display the derivatives and u\n",
        "print(\"u =\")\n",
        "display(u)\n",
        "\n",
        "print(\"du/dx =\")\n",
        "display(du)\n",
        "\n",
        "print(\"(d²u/dx²) =\")\n",
        "display(ddu)\n",
        "\n",
        "print(\"d³u/dx³)=\")\n",
        "display(dddu)\n"
      ]
    },
    {
      "cell_type": "markdown",
      "id": "d6080849",
      "metadata": {
        "id": "d6080849"
      },
      "source": [
        "#### BC\n"
      ]
    },
    {
      "cell_type": "code",
      "execution_count": 35,
      "id": "17902e15",
      "metadata": {
        "id": "17902e15"
      },
      "outputs": [],
      "source": [
        "#Boundary COnditions\n",
        "\n",
        "bc1 = ddu.subs(x,0)\n",
        "bc2 = dddu.subs(x,0)\n",
        "bc3 = u.subs(x,L)\n",
        "bc4 = du.subs(x,L)"
      ]
    },
    {
      "cell_type": "markdown",
      "id": "540058bf",
      "metadata": {
        "id": "540058bf"
      },
      "source": [
        "#### Get integration constants\n"
      ]
    },
    {
      "cell_type": "code",
      "execution_count": 36,
      "id": "df369b92",
      "metadata": {
        "id": "df369b92",
        "colab": {
          "base_uri": "https://localhost:8080/",
          "height": 334
        },
        "outputId": "105b5cdd-8f62-4582-bd38-f00823aae2db"
      },
      "outputs": [
        {
          "output_type": "stream",
          "name": "stdout",
          "text": [
            "u(x)=\n"
          ]
        },
        {
          "output_type": "display_data",
          "data": {
            "text/plain": [
              "x*(24*L**3*p_max*t_f**2*w_f**2 + 24*L**3*p_max*t_f*t_w*w_f*w_w + 6*L**3*p_max*t_w**2*w_w**2)/(55*E*t_f**5*w_f**3 + 25*E*t_f**4*t_w*w_f**2*w_w + 85*E*t_f**3*t_w**2*w_f*w_w**2 - 90*E*t_f**3*t_w*w_f**2*w_w**2 + 20*E*t_f**2*t_w**3*w_f**2*w_w + 60*E*t_f**2*t_w**3*w_w**3 - 90*E*t_f**2*t_w**2*w_f*w_w**3 + 60*E*t_f**2*t_w*w_f**2*w_w**3 + 20*E*t_f*t_w**4*w_f*w_w**2 + 15*E*t_f*t_w**2*w_f*w_w**4 + 5*E*t_w**5*w_w**3) + (-52*L**4*p_max*t_f**2*w_f**2 - 52*L**4*p_max*t_f*t_w*w_f*w_w - 13*L**4*p_max*t_w**2*w_w**2)/(165*E*t_f**5*w_f**3 + 75*E*t_f**4*t_w*w_f**2*w_w + 255*E*t_f**3*t_w**2*w_f*w_w**2 - 270*E*t_f**3*t_w*w_f**2*w_w**2 + 60*E*t_f**2*t_w**3*w_f**2*w_w + 180*E*t_f**2*t_w**3*w_w**3 - 270*E*t_f**2*t_w**2*w_f*w_w**3 + 180*E*t_f**2*t_w*w_f**2*w_w**3 + 60*E*t_f*t_w**4*w_f*w_w**2 + 45*E*t_f*t_w**2*w_f*w_w**4 + 15*E*t_w**5*w_w**3) + p_max*x**4*(-2*t_f**2*w_f**2 - 2*t_f*t_w*w_f*w_w - t_w**2*w_w**2/2)/(E*(11*t_f**5*w_f**3 + 5*t_f**4*t_w*w_f**2*w_w + 17*t_f**3*t_w**2*w_f*w_w**2 - 18*t_f**3*t_w*w_f**2*w_w**2 + 4*t_f**2*t_w**3*w_f**2*w_w + 12*t_f**2*t_w**3*w_w**3 - 18*t_f**2*t_w**2*w_f*w_w**3 + 12*t_f**2*t_w*w_f**2*w_w**3 + 4*t_f*t_w**4*w_f*w_w**2 + 3*t_f*t_w**2*w_f*w_w**4 + t_w**5*w_w**3)) + p_max*x**5*(4*t_f**2*w_f**2 + 4*t_f*t_w*w_f*w_w + t_w**2*w_w**2)/(5*E*L*(11*t_f**5*w_f**3 + 5*t_f**4*t_w*w_f**2*w_w + 17*t_f**3*t_w**2*w_f*w_w**2 - 18*t_f**3*t_w*w_f**2*w_w**2 + 4*t_f**2*t_w**3*w_f**2*w_w + 12*t_f**2*t_w**3*w_w**3 - 18*t_f**2*t_w**2*w_f*w_w**3 + 12*t_f**2*t_w*w_f**2*w_w**3 + 4*t_f*t_w**4*w_f*w_w**2 + 3*t_f*t_w**2*w_f*w_w**4 + t_w**5*w_w**3)) - p_max*x**6*(4*t_f**2*w_f**2 + 4*t_f*t_w*w_f*w_w + t_w**2*w_w**2)/(30*E*L**2*(11*t_f**5*w_f**3 + 5*t_f**4*t_w*w_f**2*w_w + 17*t_f**3*t_w**2*w_f*w_w**2 - 18*t_f**3*t_w*w_f**2*w_w**2 + 4*t_f**2*t_w**3*w_f**2*w_w + 12*t_f**2*t_w**3*w_w**3 - 18*t_f**2*t_w**2*w_f*w_w**3 + 12*t_f**2*t_w*w_f**2*w_w**3 + 4*t_f*t_w**4*w_f*w_w**2 + 3*t_f*t_w**2*w_f*w_w**4 + t_w**5*w_w**3))"
            ],
            "text/latex": "$\\displaystyle \\frac{x \\left(24 L^{3} p_{max} t_{f}^{2} w_{f}^{2} + 24 L^{3} p_{max} t_{f} t_{w} w_{f} w_{w} + 6 L^{3} p_{max} t_{w}^{2} w_{w}^{2}\\right)}{55 E t_{f}^{5} w_{f}^{3} + 25 E t_{f}^{4} t_{w} w_{f}^{2} w_{w} + 85 E t_{f}^{3} t_{w}^{2} w_{f} w_{w}^{2} - 90 E t_{f}^{3} t_{w} w_{f}^{2} w_{w}^{2} + 20 E t_{f}^{2} t_{w}^{3} w_{f}^{2} w_{w} + 60 E t_{f}^{2} t_{w}^{3} w_{w}^{3} - 90 E t_{f}^{2} t_{w}^{2} w_{f} w_{w}^{3} + 60 E t_{f}^{2} t_{w} w_{f}^{2} w_{w}^{3} + 20 E t_{f} t_{w}^{4} w_{f} w_{w}^{2} + 15 E t_{f} t_{w}^{2} w_{f} w_{w}^{4} + 5 E t_{w}^{5} w_{w}^{3}} + \\frac{- 52 L^{4} p_{max} t_{f}^{2} w_{f}^{2} - 52 L^{4} p_{max} t_{f} t_{w} w_{f} w_{w} - 13 L^{4} p_{max} t_{w}^{2} w_{w}^{2}}{165 E t_{f}^{5} w_{f}^{3} + 75 E t_{f}^{4} t_{w} w_{f}^{2} w_{w} + 255 E t_{f}^{3} t_{w}^{2} w_{f} w_{w}^{2} - 270 E t_{f}^{3} t_{w} w_{f}^{2} w_{w}^{2} + 60 E t_{f}^{2} t_{w}^{3} w_{f}^{2} w_{w} + 180 E t_{f}^{2} t_{w}^{3} w_{w}^{3} - 270 E t_{f}^{2} t_{w}^{2} w_{f} w_{w}^{3} + 180 E t_{f}^{2} t_{w} w_{f}^{2} w_{w}^{3} + 60 E t_{f} t_{w}^{4} w_{f} w_{w}^{2} + 45 E t_{f} t_{w}^{2} w_{f} w_{w}^{4} + 15 E t_{w}^{5} w_{w}^{3}} + \\frac{p_{max} x^{4} \\left(- 2 t_{f}^{2} w_{f}^{2} - 2 t_{f} t_{w} w_{f} w_{w} - \\frac{t_{w}^{2} w_{w}^{2}}{2}\\right)}{E \\left(11 t_{f}^{5} w_{f}^{3} + 5 t_{f}^{4} t_{w} w_{f}^{2} w_{w} + 17 t_{f}^{3} t_{w}^{2} w_{f} w_{w}^{2} - 18 t_{f}^{3} t_{w} w_{f}^{2} w_{w}^{2} + 4 t_{f}^{2} t_{w}^{3} w_{f}^{2} w_{w} + 12 t_{f}^{2} t_{w}^{3} w_{w}^{3} - 18 t_{f}^{2} t_{w}^{2} w_{f} w_{w}^{3} + 12 t_{f}^{2} t_{w} w_{f}^{2} w_{w}^{3} + 4 t_{f} t_{w}^{4} w_{f} w_{w}^{2} + 3 t_{f} t_{w}^{2} w_{f} w_{w}^{4} + t_{w}^{5} w_{w}^{3}\\right)} + \\frac{p_{max} x^{5} \\cdot \\left(4 t_{f}^{2} w_{f}^{2} + 4 t_{f} t_{w} w_{f} w_{w} + t_{w}^{2} w_{w}^{2}\\right)}{5 E L \\left(11 t_{f}^{5} w_{f}^{3} + 5 t_{f}^{4} t_{w} w_{f}^{2} w_{w} + 17 t_{f}^{3} t_{w}^{2} w_{f} w_{w}^{2} - 18 t_{f}^{3} t_{w} w_{f}^{2} w_{w}^{2} + 4 t_{f}^{2} t_{w}^{3} w_{f}^{2} w_{w} + 12 t_{f}^{2} t_{w}^{3} w_{w}^{3} - 18 t_{f}^{2} t_{w}^{2} w_{f} w_{w}^{3} + 12 t_{f}^{2} t_{w} w_{f}^{2} w_{w}^{3} + 4 t_{f} t_{w}^{4} w_{f} w_{w}^{2} + 3 t_{f} t_{w}^{2} w_{f} w_{w}^{4} + t_{w}^{5} w_{w}^{3}\\right)} - \\frac{p_{max} x^{6} \\cdot \\left(4 t_{f}^{2} w_{f}^{2} + 4 t_{f} t_{w} w_{f} w_{w} + t_{w}^{2} w_{w}^{2}\\right)}{30 E L^{2} \\cdot \\left(11 t_{f}^{5} w_{f}^{3} + 5 t_{f}^{4} t_{w} w_{f}^{2} w_{w} + 17 t_{f}^{3} t_{w}^{2} w_{f} w_{w}^{2} - 18 t_{f}^{3} t_{w} w_{f}^{2} w_{w}^{2} + 4 t_{f}^{2} t_{w}^{3} w_{f}^{2} w_{w} + 12 t_{f}^{2} t_{w}^{3} w_{w}^{3} - 18 t_{f}^{2} t_{w}^{2} w_{f} w_{w}^{3} + 12 t_{f}^{2} t_{w} w_{f}^{2} w_{w}^{3} + 4 t_{f} t_{w}^{4} w_{f} w_{w}^{2} + 3 t_{f} t_{w}^{2} w_{f} w_{w}^{4} + t_{w}^{5} w_{w}^{3}\\right)}$"
          },
          "metadata": {}
        }
      ],
      "source": [
        "from sympy.solvers.solveset import linsolve\n",
        "# the four bcs and four IC unknowns form a linear system of equations which can be solved\n",
        "sol=linsolve([bc1, bc2, bc3, bc4], (C1,C2,C3,C4))\n",
        "\n",
        "# then you assign the solution to the C1 to C4 variables\n",
        "[C1sol,C2sol,C3sol,C4sol] = list(sol)[0]\n",
        "\n",
        "# substitute the unknowns with the calculated quantities\n",
        "usol= u.subs([(C1,C1sol), (C2,C2sol), (C3,C3sol), (C4,C4sol)]) # displacement\n",
        "\n",
        "print('u(x)=')\n",
        "display(usol)"
      ]
    },
    {
      "cell_type": "markdown",
      "id": "2be1864e",
      "metadata": {
        "id": "2be1864e"
      },
      "source": [
        "####  Moment and axial stress\n",
        "\n",
        "\n",
        "$$M(x) = E I \\frac{d^2u(x)}{dx^2}$$\n",
        "\n",
        "$$\\sigma = - \\frac{M(x)y}{I}$$"
      ]
    },
    {
      "cell_type": "code",
      "execution_count": 37,
      "id": "67a22c26",
      "metadata": {
        "id": "67a22c26"
      },
      "outputs": [],
      "source": [
        "Msol  = E*I*diff(usol,x,x)   # Moment\n",
        "sigma = -(Msol * y) / I      # axial stress"
      ]
    },
    {
      "cell_type": "markdown",
      "id": "10ce0289",
      "metadata": {
        "id": "10ce0289"
      },
      "source": [
        "#### Subbing values\n",
        "\n"
      ]
    },
    {
      "cell_type": "code",
      "execution_count": 38,
      "id": "cd46a729",
      "metadata": {
        "id": "cd46a729",
        "colab": {
          "base_uri": "https://localhost:8080/",
          "height": 59
        },
        "outputId": "b924c00c-cc89-437d-d84f-2957f0bcf8ab"
      },
      "outputs": [
        {
          "output_type": "display_data",
          "data": {
            "text/plain": [
              "-9.76312840933599e-12*x**6 + 5.8578770456016e-10*x**5 - 1.4644692614004e-8*x**4 + 3.51472622736096e-5*x - 0.000253841338642736"
            ],
            "text/latex": "$\\displaystyle - 9.76312840933599 \\cdot 10^{-12} x^{6} + 5.8578770456016 \\cdot 10^{-10} x^{5} - 1.4644692614004 \\cdot 10^{-8} x^{4} + 3.51472622736096 \\cdot 10^{-5} x - 0.000253841338642736$"
          },
          "metadata": {}
        }
      ],
      "source": [
        "# Defining parameters\n",
        "valE      = 200e9   # Pa - Young's modulus\n",
        "valL      = 10      # m - Length of the beam\n",
        "valw_f    = 0.5     # m - width of flange\n",
        "valt_f    = 0.95     # m - thickness of flange (this will be an opt var)\n",
        "valw_w    = 0.5     # m - width of web\n",
        "valt_w    = 0.2     # m - thickness of web (this will be an opt var)\n",
        "\n",
        "valp_max    = 5800  # N/m - max distributed load\n",
        "\n",
        "# neutral axis\n",
        "d_naSub   = d_na_I.subs([(w_f, valw_f),(t_f, valt_f),\\\n",
        "                          (w_w, valw_w),(t_w, valt_w)])\n",
        "\n",
        "vald_na   = float(d_naSub)\n",
        "\n",
        "# cross section area\n",
        "ASub      = A_I.subs(      [(w_f, valw_f),(t_f, valt_f),\\\n",
        "                          (w_w, valw_w),(t_w, valt_w)])\n",
        "\n",
        "# displacement u(x) as a function of x\n",
        "uSub      = usol.subs(   [(w_f, valw_f),(t_f, valt_f),\\\n",
        "                          (w_w, valw_w),(t_w, valt_w),\\\n",
        "                          (E, valE),(L, valL),\\\n",
        "                          (p_max, valp_max)])\n",
        "\n",
        "# axial stress sigma(x,y) as a function of x,y\n",
        "sigmaSub = sigma.subs(   [(w_f, valw_f),(t_f, valt_f),\\\n",
        "                          (w_w, valw_w),(t_w, valt_w),\\\n",
        "                          (E, valE),(L, valL),\\\n",
        "                          (p_max, valp_max)])\n",
        "\n",
        "display(uSub) # this should only be a function of x as other values are subbed"
      ]
    },
    {
      "cell_type": "markdown",
      "id": "22a90784",
      "metadata": {
        "id": "22a90784"
      },
      "source": [
        "####  Displacement  plot $u(x)$\n",
        "\n"
      ]
    },
    {
      "cell_type": "code",
      "execution_count": 39,
      "id": "b3c211bc",
      "metadata": {
        "id": "b3c211bc",
        "colab": {
          "base_uri": "https://localhost:8080/",
          "height": 447
        },
        "outputId": "c806b5ff-04d9-4712-fbbb-909e8c42232d"
      },
      "outputs": [
        {
          "output_type": "execute_result",
          "data": {
            "text/plain": [
              "[<matplotlib.lines.Line2D at 0x7dfcc1985ff0>]"
            ]
          },
          "metadata": {},
          "execution_count": 39
        },
        {
          "output_type": "display_data",
          "data": {
            "text/plain": [
              "<Figure size 640x480 with 1 Axes>"
            ],
            "image/png": "[encoded data removed]"
          },
          "metadata": {}
        }
      ],
      "source": [
        "uFun   = lambdify(x, uSub)\n",
        "varx   = np.linspace(0., valL, 100)\n",
        "plt.plot(varx, uFun(varx))"
      ]
    },
    {
      "cell_type": "markdown",
      "id": "9fc3e935",
      "metadata": {
        "id": "9fc3e935"
      },
      "source": [
        "#### Plot axial stress $\\sigma(x,y)$\n",
        "\n",
        "Considered y at neutral axis $d_\\mathrm{na}$."
      ]
    },
    {
      "cell_type": "code",
      "execution_count": 40,
      "id": "0f1c9486",
      "metadata": {
        "id": "0f1c9486",
        "colab": {
          "base_uri": "https://localhost:8080/",
          "height": 229
        },
        "outputId": "eaf55be9-48b7-421c-c331-54a21d5ad876"
      },
      "outputs": [
        {
          "output_type": "display_data",
          "data": {
            "text/plain": [
              "<Figure size 1500x200 with 2 Axes>"
            ],
            "image/png": "[encoded data removed]"
          },
          "metadata": {}
        }
      ],
      "source": [
        "sigmaFun   = lambdify([x,y], sigmaSub)\n",
        "varx       = np.linspace(0., valL, 100)\n",
        "vary       = np.linspace(-vald_na, valt_f+valw_w-vald_na, 50)\n",
        "\n",
        "# Create a grid of x and y values using np.meshgrid\n",
        "X, Y   = np.meshgrid(varx, vary)\n",
        "\n",
        "# Evaluate your sigma function on the grid of x and y values\n",
        "sigmaNum = sigmaFun(X, Y)\n",
        "\n",
        "fig, ax    = plt.subplots(figsize=(15, 2))\n",
        "campLabel=plt.contourf(X, Y, sigmaFun(X,Y), levels=100,cmap='jet')\n",
        "\n",
        "cbar = fig.colorbar(campLabel)\n",
        "\n",
        "max_sigma = np.max(sigmaNum)\n",
        "min_sigma = np.min(sigmaNum)\n",
        "\n",
        "# Give Max and Min Value for Sigma on Plot\n",
        "plt.text(varx[0], vary[0], f'Max Sigma: {max_sigma:.2f}', color='red', fontsize=12, va='top')\n",
        "plt.text(varx[0], vary[0], f'Min Sigma: {min_sigma:.2f}', color='blue', fontsize=12, va='bottom')\n",
        "\n",
        "# Draw a l line at y = 0 and label it as the neutral axis\n",
        "plt.axhline(y=0, color='red', linestyle='--', label='Neutral Axis')\n",
        "\n",
        "# Show the plot\n",
        "plt.legend()\n",
        "plt.show()"
      ]
    },
    {
      "cell_type": "markdown",
      "id": "f97a937a",
      "metadata": {
        "id": "f97a937a"
      },
      "source": [
        "#### Optimization\n",
        "subbing necessary values in equation"
      ]
    },
    {
      "cell_type": "code",
      "execution_count": 41,
      "id": "0a7fe5ee",
      "metadata": {
        "id": "0a7fe5ee"
      },
      "outputs": [],
      "source": [
        "# Defining parameters\n",
        "u_lim       = -valL/100 # m - limit of displacement (do not exceed)\n",
        "sigma_yield = -200e6    # Pa - yield stress (do not exceed)\n",
        "\n",
        "valt_f_min  = 0.001     # m - minimum dimension of t_f\n",
        "valt_w_min  = 0.001     # m - minimum dimension of t_w\n",
        "\n",
        "valt_f_max  = 0.05      # m - maximum dimension of t_f\n",
        "valt_w_max  = 0.025     # m - maximum dimension of t_w\n",
        "\n",
        "valrho      = 8900      #density kg/m^3\n",
        "\n",
        "ASub      = A_I.subs(    [(w_f, valw_f),(w_w, valw_w)])\n",
        "\n",
        "uSub      = usol.subs( [(x,0),\\\n",
        "                        (w_f, valw_f),(w_w, valw_w),\\\n",
        "                        (E, valE),(L, valL),\\\n",
        "                        (p_max, valp_max)])\n",
        "\n",
        "sigmaSub  = sigma.subs( [(x,valL),(y,-d_na_I),\\\n",
        "                        (w_f, valw_f),(w_w, valw_w),\\\n",
        "                        (E, valE),(L, valL),\\\n",
        "                        (p_max, valp_max)])\n",
        "\n",
        "AFun      = lambdify([t_f,t_w], ASub)\n",
        "uFun      = lambdify([t_f,t_w], uSub)\n",
        "sigmaFun  = lambdify([t_f,t_w], sigmaSub)"
      ]
    },
    {
      "cell_type": "markdown",
      "id": "e5a2e88b",
      "metadata": {
        "id": "e5a2e88b"
      },
      "source": [
        "#### Contour plot\n",
        "\n",
        "\n",
        "\n",
        "\\begin{equation}\n",
        "\\begin{aligned}\n",
        "\\min_{t_\\mathrm{f},t_\\mathrm{w}} \\quad & \\mathrm{A L \\rho}\\\\\n",
        "\\textrm{s.t.} \\quad & \\sigma_\\mathrm{max} < \\sigma_\\mathrm{yield}\\\\\n",
        "& u_\\mathrm{max} < u_\\mathrm{limit}\\\\\n",
        "& t_\\mathrm{f, min}<t_\\mathrm{f}<t_\\mathrm{f, max}\\\\\n",
        "& t_\\mathrm{w, min}<t_\\mathrm{w}<t_\\mathrm{w, max}\n",
        "\\end{aligned}\n",
        "\\end{equation}\n",
        "\n",
        "\n"
      ]
    },
    {
      "cell_type": "code",
      "execution_count": 44,
      "id": "9e0f7d2e",
      "metadata": {
        "id": "9e0f7d2e",
        "colab": {
          "base_uri": "https://localhost:8080/",
          "height": 473
        },
        "outputId": "30e2c653-2218-4fcb-8791-c0529208b0d3"
      },
      "outputs": [
        {
          "output_type": "display_data",
          "data": {
            "text/plain": [
              "<Figure size 500x500 with 1 Axes>"
            ],
            "image/png": "[encoded data removed]"
          },
          "metadata": {}
        }
      ],
      "source": [
        "vart_f   = np.linspace(valt_f_min, valt_f_max, 500)\n",
        "vart_w   = np.linspace(valt_w_min, valt_w_max, 500)\n",
        "\n",
        "mgt_f, mgt_w = np.meshgrid(vart_f, vart_w)\n",
        "\n",
        "ANum     = AFun(mgt_f, mgt_w)*valrho*valL\n",
        "uNum     = uFun(mgt_f, mgt_w)\n",
        "sigmaNum = sigmaFun(mgt_f, mgt_w)\n",
        "\n",
        "fig, ax = plt.subplots(figsize=(5, 5))\n",
        "plt.contourf(mgt_f, mgt_w, ANum, cmap='viridis')\n",
        "plt.contour(mgt_f, mgt_w, np.sign(uNum - u_lim), 1, cmap=\"Greys\")\n",
        "plt.contour(mgt_f, mgt_w, np.sign(sigmaNum - sigma_yield), 1, cmap='Greys')\n",
        "\n",
        "plt.scatter(0.0140,0.0120,color='r') # My selection point\n",
        "plt.xlabel(r'$t_f$')\n",
        "plt.ylabel(r'$t_w$')\n",
        "\n",
        "plt.xlim([valt_f_min,valt_f_max])\n",
        "plt.ylim([valt_w_min,valt_w_max])\n",
        "\n",
        "plt.show()"
      ]
    },
    {
      "cell_type": "code",
      "source": [],
      "metadata": {
        "id": "imprPGOlEW_z"
      },
      "id": "imprPGOlEW_z",
      "execution_count": null,
      "outputs": []
    }
  ],
  "metadata": {
    "colab": {
      "provenance": []
    },
    "kernelspec": {
      "display_name": "Python 3",
      "language": "python",
      "name": "python3"
    },
    "language_info": {
      "codemirror_mode": {
        "name": "ipython",
        "version": 3
      },
      "file_extension": ".py",
      "mimetype": "text/x-python",
      "name": "python",
      "nbconvert_exporter": "python",
      "pygments_lexer": "ipython3",
      "version": "3.9.9"
    }
  },
  "nbformat": 4,
  "nbformat_minor": 5
}